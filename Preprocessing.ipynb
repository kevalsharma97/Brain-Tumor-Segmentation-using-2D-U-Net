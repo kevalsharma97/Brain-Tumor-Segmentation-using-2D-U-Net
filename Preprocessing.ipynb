{
  "nbformat": 4,
  "nbformat_minor": 0,
  "metadata": {
    "colab": {
      "name": "Preprocessing",
      "provenance": [],
      "collapsed_sections": [],
      "toc_visible": true
    },
    "kernelspec": {
      "name": "python3",
      "display_name": "Python 3"
    },
    "accelerator": "GPU"
  },
  "cells": [
    {
      "cell_type": "code",
      "metadata": {
        "colab": {
          "base_uri": "https://localhost:8080/"
        },
        "id": "dJmfjDMKO-zi",
        "outputId": "ce2d32e6-dcdf-4472-d4a5-85b411a38bf5"
      },
      "source": [
        "from google.colab import drive\n",
        "drive.mount('/content/drive')"
      ],
      "execution_count": 2,
      "outputs": [
        {
          "output_type": "stream",
          "text": [
            "Drive already mounted at /content/drive; to attempt to forcibly remount, call drive.mount(\"/content/drive\", force_remount=True).\n"
          ],
          "name": "stdout"
        }
      ]
    },
    {
      "cell_type": "code",
      "metadata": {
        "id": "XSVjot1QcAQ0"
      },
      "source": [
        "import cv2\n",
        "import os,sys\n",
        "import numpy as np\n",
        "from matplotlib import pyplot as plt"
      ],
      "execution_count": 3,
      "outputs": []
    },
    {
      "cell_type": "code",
      "metadata": {
        "id": "_9VHXZ-xddAN"
      },
      "source": [
        "# Importing necessary libraries\n",
        "from PIL import Image, ImageFilter\n",
        "import os, sys\n",
        "import numpy as np\n",
        "from tqdm import tqdm\n",
        "from numpy import asarray\n",
        "import keras\n",
        "import warnings\n",
        "warnings.filterwarnings(\"ignore\")"
      ],
      "execution_count": 4,
      "outputs": []
    },
    {
      "cell_type": "markdown",
      "metadata": {
        "id": "i5q6jDKwnK9K"
      },
      "source": [
        "#Preprocessing\n"
      ]
    },
    {
      "cell_type": "code",
      "metadata": {
        "id": "ckuJeiIUgHeC",
        "colab": {
          "base_uri": "https://localhost:8080/"
        },
        "outputId": "faf6dc0b-e57f-4120-8236-4a2a61781cd1"
      },
      "source": [
        "# Applying median filter for smoothing the images\n",
        "\n",
        "# path_to_images = \"/content/drive/MyDrive/Brain-Images/train/\" # Path to images in training set\n",
        "# path_to_preprocessed_images = \"/content/drive/MyDrive/Brain-Images/preprocessed/\" # Path to save the preprocessed images\n",
        "\n",
        "# for file in os.listdir(path_to_images):\n",
        "#   img = Image.open(os.path.join(path_to_images,file))\n",
        "#   median = img.filter(ImageFilter.MedianFilter(size = 5)) #Applying median filter to all the images\n",
        "#   f, e = os.path.split(path_to_images + file)\n",
        "#   li = median.save(os.path.join(path_to_preprocessed_images,e), quality=90)\n",
        "#   print(e)"
      ],
      "execution_count": 14,
      "outputs": [
        {
          "output_type": "stream",
          "text": [
            "BRATS_001.png\n"
          ],
          "name": "stdout"
        }
      ]
    },
    {
      "cell_type": "code",
      "metadata": {
        "id": "-cjong5JnTUL"
      },
      "source": [
        ""
      ],
      "execution_count": 6,
      "outputs": []
    }
  ]
}