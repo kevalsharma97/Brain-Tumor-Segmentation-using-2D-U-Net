{
  "nbformat": 4,
  "nbformat_minor": 0,
  "metadata": {
    "colab": {
      "name": "Preprocessing",
      "provenance": [],
      "collapsed_sections": [],
      "toc_visible": true
    },
    "kernelspec": {
      "name": "python3",
      "display_name": "Python 3"
    },
    "accelerator": "GPU"
  },
  "cells": [
    {
      "cell_type": "code",
      "metadata": {
        "colab": {
          "base_uri": "https://localhost:8080/"
        },
        "id": "dJmfjDMKO-zi",
        "outputId": "7dc1f0c6-e2fe-4f30-f328-c17ccdc9e454"
      },
      "source": [
        "from google.colab import drive\n",
        "drive.mount('/content/drive')"
      ],
      "execution_count": 1,
      "outputs": [
        {
          "output_type": "stream",
          "text": [
            "Mounted at /content/drive\n"
          ],
          "name": "stdout"
        }
      ]
    },
    {
      "cell_type": "code",
      "metadata": {
        "id": "XSVjot1QcAQ0"
      },
      "source": [
        "import cv2\n",
        "import os,sys\n",
        "import numpy as np\n",
        "from matplotlib import pyplot as plt"
      ],
      "execution_count": 2,
      "outputs": []
    },
    {
      "cell_type": "code",
      "metadata": {
        "id": "_9VHXZ-xddAN"
      },
      "source": [
        "# Importing necessary libraries\n",
        "from PIL import Image, ImageFilter\n",
        "import os, sys\n",
        "import numpy as np\n",
        "from tqdm import tqdm\n",
        "from numpy import asarray\n",
        "import keras\n",
        "import warnings\n",
        "warnings.filterwarnings(\"ignore\")"
      ],
      "execution_count": 3,
      "outputs": []
    },
    {
      "cell_type": "markdown",
      "metadata": {
        "id": "i5q6jDKwnK9K"
      },
      "source": [
        "#Preprocessing\n"
      ]
    },
    {
      "cell_type": "code",
      "metadata": {
        "id": "ckuJeiIUgHeC",
        "colab": {
          "base_uri": "https://localhost:8080/"
        },
        "outputId": "407bfec7-2c8a-4469-92f0-dc37abf9e88d"
      },
      "source": [
        "# Applying median filter for smoothing the images\n",
        "\n",
        "path_to_images = \"/content/drive/MyDrive/Brain-Images/train/\" # Path to images in training set\n",
        "path_to_preprocessed_images = \"/content/drive/MyDrive/Brain-Images/preprocessed/\" # Path to save the preprocessed images\n",
        "\n",
        "for file in os.listdir(path_to_images):\n",
        "  img = Image.open(os.path.join(path_to_images,file))\n",
        "  median = img.filter(ImageFilter.MedianFilter(size = 5)) #Applying median filter to all the images\n",
        "  f, e = os.path.split(path_to_images + file)\n",
        "  li = median.save(os.path.join(path_to_preprocessed_images,e), quality=90)\n",
        "  print(e)\n",
        "  break"
      ],
      "execution_count": 5,
      "outputs": [
        {
          "output_type": "stream",
          "text": [
            "BRATS_001.png\n"
          ],
          "name": "stdout"
        }
      ]
    }
  ]
}