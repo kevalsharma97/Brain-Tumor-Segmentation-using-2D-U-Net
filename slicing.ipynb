{
  "nbformat": 4,
  "nbformat_minor": 0,
  "metadata": {
    "colab": {
      "name": "slicing.py",
      "provenance": [],
      "collapsed_sections": [],
      "toc_visible": true
    },
    "kernelspec": {
      "display_name": "Python 3",
      "name": "python3"
    }
  },
  "cells": [
    {
      "cell_type": "code",
      "metadata": {
        "colab": {
          "base_uri": "https://localhost:8080/"
        },
        "id": "R21aSirKfZxs",
        "outputId": "c1bf4c1f-4138-440b-dcf4-d9c90cb35358"
      },
      "source": [
        "from google.colab import drive\n",
        "drive.mount('/content/drive')"
      ],
      "execution_count": 1,
      "outputs": [
        {
          "output_type": "stream",
          "text": [
            "Mounted at /content/drive\n"
          ],
          "name": "stdout"
        }
      ]
    },
    {
      "cell_type": "markdown",
      "metadata": {
        "id": "scx17IHn2Vor"
      },
      "source": [
        "#Importing required libraries"
      ]
    },
    {
      "cell_type": "code",
      "metadata": {
        "id": "GHUpmlFE-D2I"
      },
      "source": [
        "import os, glob\n",
        "import nibabel as nib\n",
        "import numpy as np\n",
        "import matplotlib.pyplot as plt\n",
        "import matplotlib.image as mat\n",
        "import cv2\n",
        "from tqdm import tqdm"
      ],
      "execution_count": 2,
      "outputs": []
    },
    {
      "cell_type": "markdown",
      "metadata": {
        "id": "IQ8Dgy792b4m"
      },
      "source": [
        "#Defining some paths for inputting and outputing data"
      ]
    },
    {
      "cell_type": "code",
      "metadata": {
        "id": "PDetC4BL-LR5"
      },
      "source": [
        "# Path to root folder of input\n",
        "imagePath = '/content/drive/MyDrive/Image_Segmentation/'\n",
        "\n",
        "# Path to all the nii images\n",
        "trainPath = os.path.join(imagePath, 'train_images/')\n",
        "labelPath = os.path.join(imagePath, 'train_labels/')\n",
        "testPath = os.path.join(imagePath, 'test_images/')\n",
        "val_image_path = os.path.join(imagePath, 'validate_images/')\n",
        "val_label_path = os.path.join(imagePath, 'validate_labels/')\n",
        "\n",
        "# Path to root folder of output\n",
        "OutputPath = '/content/drive/MyDrive/slices/'\n",
        "\n",
        "# Output paths for training data\n",
        "OutputPath_train = os.path.join(OutputPath, 'train/')\n",
        "train_image_output = os.path.join(OutputPath_train, 'Images/', 'Images/')\n",
        "train_label_output = os.path.join(OutputPath_train, 'Labels/', 'Images/')\n",
        "black_images_train = os.path.join(OutputPath_train, 'Black_images/')\n",
        "black_labels_train = os.path.join(OutputPath_train, 'Black_labels/')\n",
        "\n",
        "# Output paths for testing data\n",
        "OutputPath_test = os.path.join(OutputPath, 'test/')\n",
        "test_image_output = os.path.join(OutputPath_test, 'Images/','Images/')\n",
        "black_images_test = os.path.join(OutputPath_test, 'Black_images/')\n",
        "\n",
        "# Output paths for validation data\n",
        "OutputPath_validate = os.path.join(OutputPath, 'validate/')\n",
        "validate_image_output = os.path.join(OutputPath_validate, 'Images/', 'Images/')\n",
        "validate_label_output = os.path.join(OutputPath_validate, 'Labels/', 'Images/')\n",
        "black_images_validate = os.path.join(OutputPath_validate, 'Black_images/')\n",
        "black_labels_validate = os.path.join(OutputPath_validate, 'Black_labels/')"
      ],
      "execution_count": 3,
      "outputs": []
    },
    {
      "cell_type": "markdown",
      "metadata": {
        "id": "_OeyHSL9qKLP"
      },
      "source": [
        "#Function for slicing images\n",
        "\n"
      ]
    },
    {
      "cell_type": "code",
      "metadata": {
        "id": "5jFQspnB-Qg-"
      },
      "source": [
        "def saveSlice(inPath, outPath):\n",
        "    image_count = 0 \n",
        "    ctr = 0\n",
        "    files = os.listdir(inPath)\n",
        "    files.sort(reverse=False)\n",
        "    for file in files:\n",
        "        image = nib.load(os.path.join(inPath,file)).get_fdata() # Loading nii file\n",
        "        x, y = os.path.split(inPath + file) # Splitting filename from path\n",
        "        a, b = os.path.splitext(y) # Splitting filename and extension\n",
        "        (X, Y, Z) = image.shape\n",
        "        print(\"Slicing \" + str(y))\n",
        "        for i in range(0, X): # Slicing in x direction\n",
        "            imgx = image[i,:,:]\n",
        "            filename = str(a) + \"_x_\" + str(i)\n",
        "            print(\"Slice \" + str(i) + \" of x of \" + str(a) + \" created\")\n",
        "            mat.imsave(os.path.join(outPath, filename + \".png\"), imgx, cmap = 'gray') # To save grayscale images\n",
        "            # mat.imsave(os.path.join(imageSliceOutput_train, filename + \".png\"), imgx) # To save color images\n",
        "            i = i + 1\n",
        "            break\n",
        "            image_count = image_count + 1 # Keeping count of total slices\n",
        "\n",
        "        print()\n",
        "        for i in range(0, Y): # Slicing in y direction\n",
        "            imgy = image[:, i, :]\n",
        "            filename = str(a) + \"_y_\" + str(i)\n",
        "            print(\"Slice \" + str(i) + \" of y of \" + str(a) + \" created\")\n",
        "            mat.imsave(os.path.join(outPath, filename + \".png\"), imgy, cmap = 'gray')\n",
        "            # mat.imsave(os.path.join(imageSliceOutput_train, filename + \".png\"), imgy)\n",
        "            i = i + 1\n",
        "            break\n",
        "            image_count = image_count + 1\n",
        "\n",
        "        print()\n",
        "        for i in range(0, Z): # Slicing in z direction\n",
        "            imgz = image[:, :, i]\n",
        "            filename = str(a) + \"_z_\" + str(i)\n",
        "            print(\"Slice \" + str(i) + \" of z of \" + str(a) + \" created\")\n",
        "            mat.imsave(os.path.join(outPath, filename + \".png\"), imgz, cmap = 'gray')\n",
        "            # mat.imsave(os.path.join(imageSliceOutput_train, filename + \".png\"), imgz)\n",
        "            i = i + 1\n",
        "            break\n",
        "            image_count = image_count + 1\n",
        "        ctr = ctr + 1 # Keeping count of total nii images\n",
        "        break\n",
        "    print(\"Total \" + str(image_count) + \" slices created from \" + str(ctr) + \" images\" )"
      ],
      "execution_count": null,
      "outputs": []
    },
    {
      "cell_type": "code",
      "metadata": {
        "id": "YqZthvWI_WeW"
      },
      "source": [
        "saveSlice(trainPath,train_image_output) # Passing training images"
      ],
      "execution_count": null,
      "outputs": []
    },
    {
      "cell_type": "code",
      "metadata": {
        "id": "wkBR-QbT3_mj"
      },
      "source": [
        "saveSlice(labelPath,train_label_output)  # Passing training labels"
      ],
      "execution_count": null,
      "outputs": []
    },
    {
      "cell_type": "code",
      "metadata": {
        "id": "f4JAPvdP3_p4"
      },
      "source": [
        "saveSlice(val_image_path,validate_image_output) # Passing validation images"
      ],
      "execution_count": null,
      "outputs": []
    },
    {
      "cell_type": "code",
      "metadata": {
        "id": "grqJX4jG3_tJ"
      },
      "source": [
        "saveSlice(val_label_path,validate_label_output)  # Passing validation labels"
      ],
      "execution_count": null,
      "outputs": []
    },
    {
      "cell_type": "code",
      "metadata": {
        "id": "JvRoNSCA3_wZ"
      },
      "source": [
        "saveSlice(testPath,test_image_output) # Passing testing images"
      ],
      "execution_count": null,
      "outputs": []
    },
    {
      "cell_type": "markdown",
      "metadata": {
        "id": "myIBqZYeMdkZ"
      },
      "source": [
        "#Counting total number of images in each folder\n"
      ]
    },
    {
      "cell_type": "code",
      "metadata": {
        "id": "lEd4a2BMEwKP",
        "colab": {
          "base_uri": "https://localhost:8080/"
        },
        "outputId": "bede3ccc-0946-4f5c-c74e-9fc4fbc13794"
      },
      "source": [
        "train_images = os.listdir(imageSliceOutput_train)\n",
        "train_labels = os.listdir(maskSliceOutput_train)\n",
        "black_images = os.listdir(black_images_train)\n",
        "black_labels = os.listdir(black_labels_train)\n",
        "validate_images = os.listdir(imageSliceOutput_validate)\n",
        "validate_labels = os.listdir(maskSliceOutput_validate)\n",
        "black_images_validate = os.listdir(black_images_validate)\n",
        "black_labels_validate = os.listdir(black_labels_validate)\n",
        "test_images = os.listdir(imageSliceOutput_test)\n",
        "black_test = os.listdir(black_images_test)\n",
        "\n",
        "print(\"Train images : \" + str(len(train_images)))\n",
        "print(\"Train labels : \" + str(len(train_labels)))\n",
        "print(\"Black images for train : \" + str(len(black_images)))\n",
        "print(\"Black labels for train : \" + str(len(black_labels)))\n",
        "print(\"Validation images : \" + str(len(validate_images)))\n",
        "print(\"Validation labels : \" + str(len(validate_labels)))\n",
        "print(\"Black images for validation : \" + str(len(black_images_validate)))\n",
        "print(\"Black labels for validation : \" + str(len(black_labels_validate)))\n",
        "print(\"Test images : \" + str(len(test_images)))\n",
        "print(\"Black images for test : \" + str(len(black_test)))"
      ],
      "execution_count": null,
      "outputs": [
        {
          "output_type": "stream",
          "text": [
            "Train images : 21894\n",
            "Train labels : 21894\n",
            "Black images for train : 9856\n",
            "Black labels for train : 9856\n",
            "Validation images : 6551\n",
            "Validation labels : 6551\n",
            "Black images for validation : 2974\n",
            "Black labels for validation : 2974\n",
            "Test images : 6531\n",
            "Black images for test : 2994\n"
          ],
          "name": "stdout"
        }
      ]
    }
  ]
}