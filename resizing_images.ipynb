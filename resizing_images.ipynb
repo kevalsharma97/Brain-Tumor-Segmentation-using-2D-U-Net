{
  "nbformat": 4,
  "nbformat_minor": 0,
  "metadata": {
    "colab": {
      "name": "resizing_images.ipynb",
      "provenance": [],
      "collapsed_sections": []
    },
    "kernelspec": {
      "display_name": "Python 3",
      "name": "python3"
    }
  },
  "cells": [
    {
      "cell_type": "code",
      "metadata": {
        "colab": {
          "base_uri": "https://localhost:8080/"
        },
        "id": "wsDZ2gNKNSrl",
        "outputId": "d94282dc-bd88-4196-c3c4-589d19352c4a"
      },
      "source": [
        "from google.colab import drive\n",
        "drive.mount('/content/drive')"
      ],
      "execution_count": 1,
      "outputs": [
        {
          "output_type": "stream",
          "text": [
            "Mounted at /content/drive\n"
          ],
          "name": "stdout"
        }
      ]
    },
    {
      "cell_type": "markdown",
      "metadata": {
        "id": "cAJaIbpt4CNx"
      },
      "source": [
        "#Importing required libraries"
      ]
    },
    {
      "cell_type": "code",
      "metadata": {
        "id": "JCcyITYcNfXF"
      },
      "source": [
        "import os, glob\n",
        "import nibabel as nib\n",
        "import numpy as np\n",
        "import matplotlib.pyplot as plt\n",
        "import matplotlib.image as mat\n",
        "import cv2"
      ],
      "execution_count": 2,
      "outputs": []
    },
    {
      "cell_type": "markdown",
      "metadata": {
        "id": "vsdqZzx24Inx"
      },
      "source": [
        "#Defining paths for inputting and outputting data"
      ]
    },
    {
      "cell_type": "code",
      "metadata": {
        "id": "uukcJ5WVNiop"
      },
      "source": [
        "# Path to root folder\n",
        "OutputPath = '/content/drive/MyDrive/slices/'\n",
        "\n",
        "# Paths for training data\n",
        "OutputPath_train = os.path.join(OutputPath, 'train/')\n",
        "train_images = os.path.join(OutputPath_train, 'Images/', 'Images/')\n",
        "train_labels = os.path.join(OutputPath_train, 'Labels/', 'Images/')\n",
        "\n",
        "# Paths for testing data\n",
        "OutputPath_test = os.path.join(OutputPath, 'test/')\n",
        "test_images = os.path.join(OutputPath_test, 'Images/','Images/')\n",
        "\n",
        "# Paths for validation data\n",
        "OutputPath_validate = os.path.join(OutputPath, 'validate/')\n",
        "validate_images = os.path.join(OutputPath_validate, 'Images/', 'Images/')\n",
        "validate_labels = os.path.join(OutputPath_validate, 'Labels/', 'Images/')"
      ],
      "execution_count": 4,
      "outputs": []
    },
    {
      "cell_type": "markdown",
      "metadata": {
        "id": "tQFkGQ6d4OR-"
      },
      "source": [
        "#Function for resizing images\n"
      ]
    },
    {
      "cell_type": "code",
      "metadata": {
        "id": "XEAPSFkfBZcB"
      },
      "source": [
        "def resizeImages(path):\n",
        "    files=os.listdir(path)\n",
        "    files.sort(reverse=False)\n",
        "    count=0\n",
        "    for file in files:\n",
        "        img = cv2.imread(os.path.join(path, file))\n",
        "        print(img.shape)\n",
        "        x, y = os.path.split(path + file)\n",
        "        dim = (128, 128)\n",
        "        resized = cv2.resize(img, dim, interpolation = cv2.INTER_AREA)\n",
        "        os.chdir(path)\n",
        "        cv2.imwrite(str(y), resized)\n",
        "        count = count + 1\n",
        "        print(\"File \" + str(y) + \" resized to 128 * 128\")\n",
        "    print(\"Total images resized : \" + str(count))"
      ],
      "execution_count": null,
      "outputs": []
    },
    {
      "cell_type": "code",
      "metadata": {
        "id": "P1jgIFapB35k"
      },
      "source": [
        "resizeImages(train_images) # Passing training images"
      ],
      "execution_count": null,
      "outputs": []
    },
    {
      "cell_type": "code",
      "metadata": {
        "id": "-ivLJUou4rTV"
      },
      "source": [
        "resizeImages(train_labels) # Passing training labels"
      ],
      "execution_count": null,
      "outputs": []
    },
    {
      "cell_type": "code",
      "metadata": {
        "id": "xtclVfCA4rXE"
      },
      "source": [
        "resizeImages(test_images) # Passing validation images"
      ],
      "execution_count": null,
      "outputs": []
    },
    {
      "cell_type": "code",
      "metadata": {
        "id": "RAcd8s1o4rcm"
      },
      "source": [
        "resizeImages(validate_images) # Passing validation labels"
      ],
      "execution_count": null,
      "outputs": []
    },
    {
      "cell_type": "code",
      "metadata": {
        "id": "_9zkUX-U4rre"
      },
      "source": [
        "resizeImages(validate_labels) # Passing testing images"
      ],
      "execution_count": null,
      "outputs": []
    }
  ]
}