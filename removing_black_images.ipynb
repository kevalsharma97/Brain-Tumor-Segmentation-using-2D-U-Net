{
  "nbformat": 4,
  "nbformat_minor": 0,
  "metadata": {
    "colab": {
      "name": "removing_black_images.ipynb",
      "provenance": [],
      "collapsed_sections": []
    },
    "kernelspec": {
      "display_name": "Python 3",
      "name": "python3"
    }
  },
  "cells": [
    {
      "cell_type": "code",
      "metadata": {
        "colab": {
          "base_uri": "https://localhost:8080/"
        },
        "id": "hyrivU5jyJsD",
        "outputId": "b772a306-5164-427b-e7ff-ee95c2b7f4a3"
      },
      "source": [
        "from google.colab import drive\n",
        "drive.mount('/content/drive')"
      ],
      "execution_count": 1,
      "outputs": [
        {
          "output_type": "stream",
          "text": [
            "Mounted at /content/drive\n"
          ],
          "name": "stdout"
        }
      ]
    },
    {
      "cell_type": "markdown",
      "metadata": {
        "id": "xF8-53Jh0U-c"
      },
      "source": [
        "#Importing required libraries"
      ]
    },
    {
      "cell_type": "code",
      "metadata": {
        "id": "ozcJJid_yjtM"
      },
      "source": [
        "import shutil\n",
        "import cv2\n",
        "import os"
      ],
      "execution_count": 2,
      "outputs": []
    },
    {
      "cell_type": "markdown",
      "metadata": {
        "id": "lQ29IZf70Yos"
      },
      "source": [
        "#Defining paths for inputting and outputing data\n"
      ]
    },
    {
      "cell_type": "code",
      "metadata": {
        "id": "Q690i1FEy7v_"
      },
      "source": [
        "# Path to root folder\n",
        "OutputPath = '/content/drive/MyDrive/slices/'\n",
        "\n",
        "# Paths for training data\n",
        "OutputPath_train = os.path.join(OutputPath, 'train/')\n",
        "train_images = os.path.join(OutputPath_train, 'Images/', 'Images/')\n",
        "train_labels = os.path.join(OutputPath_train, 'Labels/', 'Images/')\n",
        "black_images_train = os.path.join(OutputPath_train, 'Black_images/')\n",
        "black_labels_train = os.path.join(OutputPath_train, 'Black_labels/')\n",
        "\n",
        "# Paths for testing data\n",
        "OutputPath_test = os.path.join(OutputPath, 'test/')\n",
        "test_images = os.path.join(OutputPath_test, 'Images/','Images/')\n",
        "test_labels = os.path.join(OutputPath_test, 'Labels/','Images/')\n",
        "black_images_test = os.path.join(OutputPath_test, 'Black_images/')\n",
        "\n",
        "# Paths for validation data\n",
        "OutputPath_validate = os.path.join(OutputPath, 'validate/')\n",
        "validate_images = os.path.join(OutputPath_validate, 'Images/', 'Images/')\n",
        "validate_labels = os.path.join(OutputPath_validate, 'Labels/', 'Images/')\n",
        "black_images_validate = os.path.join(OutputPath_validate, 'Black_images/')\n",
        "black_labels_validate = os.path.join(OutputPath_validate, 'Black_labels/')"
      ],
      "execution_count": 4,
      "outputs": []
    },
    {
      "cell_type": "markdown",
      "metadata": {
        "id": "wb177-Eb0dqO"
      },
      "source": [
        "#Function to move black images and labels"
      ]
    },
    {
      "cell_type": "code",
      "metadata": {
        "id": "Im2R8WFTxmdi"
      },
      "source": [
        "def move_images_and_labels(imgPath,mskPath,imgOut,mskOut):\n",
        "    count = 0\n",
        "    ctr = 0\n",
        "    files=os.listdir(imgPath)\n",
        "    files.sort(reverse=False)\n",
        "    for file in files:\n",
        "        img = cv2.imread(os.path.join(imgPath, file))\n",
        "        gray = cv2.cvtColor(img, cv2.COLOR_RGB2GRAY)\n",
        "        (thresh, blackAndWhiteImage) = cv2.threshold(gray, 127, 255, cv2.THRESH_BINARY) #Thresholding image to check whether it contains only black pixels or not\n",
        "\n",
        "        x, y = os.path.split(imgPath + file)\n",
        "        print(\"Checking \" + str(y))\n",
        "        if cv2.countNonZero(blackAndWhiteImage) == 0: # Checking for black pixels in image\n",
        "            print(\"Moving \" + str(y) + \" image\")\n",
        "            src = imgPath + file\n",
        "            dest = imgOut + file\n",
        "            shutil.move(src, dest)\n",
        "\n",
        "            print(\"Moving \" + str(y) + \" label\")\n",
        "            src_new = mskPath + file\n",
        "            dest_new = mskOut + file\n",
        "            shutil.move(src_new, dest_new)\n",
        "            ctr = ctr + 1\n",
        "    print(ctr)"
      ],
      "execution_count": null,
      "outputs": []
    },
    {
      "cell_type": "code",
      "metadata": {
        "id": "QcQQLKJC0KZJ"
      },
      "source": [
        "move_images_and_labels(train_images, train_labels, black_images_train, black_labels_train) # Passing training images and labels"
      ],
      "execution_count": null,
      "outputs": []
    },
    {
      "cell_type": "code",
      "metadata": {
        "id": "vfejcttv0L4V"
      },
      "source": [
        "move_images_and_labels(validate_images, validate_labels, black_images_validate, black_labels_validate) # Passing validaton images and labels"
      ],
      "execution_count": null,
      "outputs": []
    },
    {
      "cell_type": "markdown",
      "metadata": {
        "id": "SCSxwWeI0mXK"
      },
      "source": [
        "#Function to move unwanted images\n"
      ]
    },
    {
      "cell_type": "code",
      "metadata": {
        "id": "7pwcoJtX1E5L"
      },
      "source": [
        "def move_images(imgPath,imgOut):\n",
        "    count = 0\n",
        "    ctr = 0\n",
        "    files=os.listdir(imgPath)\n",
        "    files.sort(reverse=False)\n",
        "    for file in files:\n",
        "        img = cv2.imread(os.path.join(imgPath, file))\n",
        "        gray = cv2.cvtColor(img, cv2.COLOR_RGB2GRAY)\n",
        "        (thresh, blackAndWhiteImage) = cv2.threshold(gray, 127, 255, cv2.THRESH_BINARY) #Thresholding image to check whether it contains only black pixels or not\n",
        "\n",
        "        x, y = os.path.split(imgPath + file)\n",
        "        print(\"Checking \" + str(y))\n",
        "        if cv2.countNonZero(blackAndWhiteImage) == 0: # Checking for black pixels in image\n",
        "            print(\"Moving \" + str(y) + \" image\")\n",
        "            src = imgPath + file\n",
        "            dest = imgOut + file\n",
        "            shutil.move(src, dest)\n",
        "    print(ctr)"
      ],
      "execution_count": null,
      "outputs": []
    },
    {
      "cell_type": "code",
      "metadata": {
        "id": "tPqvbXKj1OR5"
      },
      "source": [
        "move_images(test_images, black_images_test) # Passing test images"
      ],
      "execution_count": null,
      "outputs": []
    }
  ]
}